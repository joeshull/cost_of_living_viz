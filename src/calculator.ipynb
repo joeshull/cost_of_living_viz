{
 "cells": [
  {
   "cell_type": "code",
   "execution_count": 1,
   "metadata": {},
   "outputs": [],
   "source": [
    "import numpy as np\n",
    "import pandas as pd\n",
    "import matplotlib.pyplot as plt\n",
    "import os\n",
    "import requests\n",
    "\n",
    "from dataloader import COLDataLoader\n",
    "from colgeocoder import COLGeoUtil\n",
    "import pdb\n",
    "\n",
    "\n"
   ]
  },
  {
   "cell_type": "code",
   "execution_count": 10,
   "metadata": {},
   "outputs": [],
   "source": [
    "class COLCalculator():\n",
    "    #Cost of Living Calculator\n",
    "    #Instantiate with the path to the Zillow city csvs and Consumer Expenditure xlsxs\n",
    "    def __init__(self, zillow_path, ce_path, state_tax_path):\n",
    "        self.data = COLDataLoader(zillow_path, ce_path, state_tax_path)\n",
    "        self.data.load()\n",
    "        self.gc = COLGeoUtil()\n",
    "        \n",
    "    def calculate(self, gross_income, city, state, married=False):\n",
    "        #Calculation function: returns a dict (or json) with the following values\n",
    "        #income_taxes (Tuple): (Float: Approx amount of taxes paid, Float: Approx. Effective Tax Rate)\n",
    "        #housing_rent (Tuple): (Int: sqft affordable at the housing % ratio, Float: Ratio of housing/income)\n",
    "        #housing_own (Tuple): (Int: sqft affordable at the housing % ratio, Float: Ratio of housing/income)\n",
    "        geocode = self.gc.geocode_one([city,state])\n",
    "        tax_amount, tax_rate, net_income = self._get_taxes(gross_income, city, state, married)\n",
    "        ratio_dict = self._get_ratios(gross_income, geocode)\n",
    "        housing_rent, housing_own = self._get_housing(gross_income, ratio_dict, geocode)\n",
    "\n",
    "        return {'taxes': tuple((tax_amount, tax_rate, net_income)), 'geocode' : geocode,\n",
    "               'ratios': ratio_dict, }\n",
    "    \n",
    "    # Tax Calculation  - Federal and State\n",
    "    def _get_taxes(self, gross_income, city, state, married):\n",
    "        #returns tax amount, tax %, and net income\n",
    "        fed_tax, fed_rate = self._calc_fed_tax(gross_income, married)\n",
    "        state_tax, state_rate = self._calc_state_tax(gross_income, state, married)\n",
    "        total_tax = fed_tax + state_tax\n",
    "        net_income = gross_income - total_tax\n",
    "        effective_tax = total_tax/gross_income\n",
    "\n",
    "        return total_tax, effective_tax, net_income\n",
    "\n",
    "\n",
    "    \n",
    "    def _calc_fed_tax(self, gross_income, married):\n",
    "        #tax withholding from https://www.irs.gov/pub/irs-pdf/n1036.pdf\n",
    "        #Returns Tax Amount and rate used to calculate withholding\n",
    "        single_rate = np.array([[3800, 0, .1],\n",
    "                                [13500, 970,  .12],\n",
    "                                [43275, 4543,  .22],\n",
    "                                [88000, 14382, .24],\n",
    "                                [164525, 32748,  .32],\n",
    "                                [207900, 46628, .35],\n",
    "                                [514100, 153799, .37]]\n",
    "                                )\n",
    "\n",
    "        single_rate = np.hstack((single_rate, \n",
    "                                np.append(single_rate[1:,0],np.inf).reshape(-1,1)\n",
    "                                ))\n",
    "\n",
    "        married_rate = np.array([[11800, 0, .1],\n",
    "                                 [31200, 1940, .12],\n",
    "                                 [90750, 9086, .22],\n",
    "                                 [180200, 28765, .24],\n",
    "                                 [333250, 65497, .32],\n",
    "                                 [420000, 93257, .35],\n",
    "                                 [624150, 164710, .37]\n",
    "                                ])\n",
    "\n",
    "        married_rate = np.hstack((married_rate, \n",
    "                                np.append(married_rate[1:,0],np.inf).reshape(-1,1)\n",
    "                                ))\n",
    "        rate = single_rate\n",
    "        if married:\n",
    "            rate = married_rate\n",
    "\n",
    "        mask = np.logical_and(rate[:,0]<=gross_income, rate[:,-1]>gross_income)\n",
    "\n",
    "        mask = np.logical_and(rate[:,0]<=gross_income, rate[:,-1]>gross_income)\n",
    "        if mask.any():\n",
    "            threshold, base_tax, rate = rate[mask][0][0], rate[mask][0][1], rate[mask][0][2]\n",
    "            return ((base_tax + (gross_income-threshold)*rate), rate)\n",
    "        else:\n",
    "            return (0, 0)\n",
    "\n",
    "        \n",
    "    def _calc_state_tax(self,gross_income, state, married):\n",
    "        #Returns State Tax Amount and Rate used to calculate the amount\n",
    "        income = gross_income - 12000\n",
    "        if married:\n",
    "            income = gross_income - 24000\n",
    "        tax_rates = self.data.df_state_tax.loc[self.data.df_state_tax.stateAbbr == state]\n",
    "        mask = np.logical_and(tax_rates.iloc[:,-2].values<gross_income, tax_rates.iloc[:,-1].values>=gross_income)\n",
    "        rate = tax_rates.loc[mask,'incomeTaxRate'].values[0]\n",
    "        return (income*rate, rate)\n",
    "    \n",
    "    def _get_ratios(self, gross_income, geocode):\n",
    "        #get closest city\n",
    "        ce_idx = self.gc.get_closest_index(self.data.ce_geocodes, geocode)\n",
    "        df = self.data.df_ce.iloc[:,ce_idx]\n",
    "        df.dropna(axis=0)\n",
    "        \n",
    "        #Make % ratio of gross income spent on living items\n",
    "        ratios = df / df['Income before taxes']\n",
    "        \n",
    "        #Hard-code list of spending items (in order of importance) that should total \n",
    "        items_expenditure = ['Housing', 'Food', 'Transportation', 'Healthcare',\n",
    "                             'Apparel and services', 'Entertainment', 'Personal care products and services',\n",
    "                             'Reading', 'Education', 'Tobacco products and smooking supplies', 'Miscellaneous',\n",
    "                             'Cash contributions', 'Personal insurance and pensions']\n",
    "        quality_of_life = ['Apparel and services', 'Entertainment', 'Personal care products and services',\n",
    "                             'Reading', 'Education', 'Tobacco products and smooking supplies', 'Miscellaneous',\n",
    "                             'Cash contributions', 'Personal insurance and pensions']\n",
    "        \n",
    "        out_dict = {}\n",
    "        for key in items_expenditure:\n",
    "            ratio = ratios[key]\n",
    "            value = ratio*gross_income\n",
    "            out_dict[key] = tuple((value, ratio))\n",
    "        return out_dict\n",
    "    \n",
    "    def _get_housing(self, gross_income, ratio_dict, geocode):\n",
    "        #Returns two tuples\n",
    "        #housing_own (Tuple): (Int: sqft affordable at the housing % ratio, Float: $/sqft, max # people)\n",
    "        #housing_rent (Tuple): (Int: sqft affordable at the housing % ratio, Float: $/sqft, max # people)\n",
    "        \n",
    "        city_own_idx = self.gc.get_closest_index(self.data.df_zil_own.lat_lng.values, geocode)\n",
    "        city_rent_idx = self.gc.get_closest_index(self.data.df_zil_rent.lat_lng.values, geocode)\n",
    "        \n",
    "        own_cost_per_sqft = self.data.df_zil_own.iloc[city_own_idx, -1]\n",
    "        rent_cost_per_sqft = self.data.df_zil_rent.iloc[city_rent_idx, -1]\n",
    "        \n",
    "        #Need a mortgage calculator\n",
    "        \n",
    "        #Calc rent sqft\n",
    "        "
   ]
  },
  {
   "cell_type": "code",
   "execution_count": 11,
   "metadata": {},
   "outputs": [],
   "source": [
    "base_ce_path = '../data/bls_ce/msa'\n",
    "base_zil_path = '../data/zillow/city'\n",
    "base_tax_path = '../data/state_tax'\n",
    "\n",
    "calculator = COLCalculator(base_zil_path,base_ce_path,base_tax_path)"
   ]
  },
  {
   "cell_type": "code",
   "execution_count": 12,
   "metadata": {},
   "outputs": [
    {
     "name": "stdout",
     "output_type": "stream",
     "text": [
      "getting place id for San Francisco, CA\n",
      "getting geocode for ChIJIQBpAG2ahYAR_6128GcTUEo\n"
     ]
    },
    {
     "data": {
      "text/plain": [
       "{'taxes': (25446.0, 0.25446, 74554.0),\n",
       " 'geocode': array([  37.7749295, -122.4194155])}"
      ]
     },
     "execution_count": 12,
     "metadata": {},
     "output_type": "execute_result"
    }
   ],
   "source": [
    "calculator.calculate(100000, 'San Francisco', 'CA')"
   ]
  },
  {
   "cell_type": "code",
   "execution_count": 14,
   "metadata": {},
   "outputs": [
    {
     "data": {
      "text/plain": [
       "array([[  41.8781136,  -87.6297982],\n",
       "       [  42.331427 ,  -83.0457538],\n",
       "       [  44.977753 ,  -93.2650108],\n",
       "       [  38.6270025,  -90.1994042],\n",
       "       [  38.9071923,  -77.0368707],\n",
       "       [  39.2903848,  -76.6121893],\n",
       "       [  33.7489954,  -84.3879824],\n",
       "       [  25.7616798,  -80.1917902],\n",
       "       [  32.7554883,  -97.3307658],\n",
       "       [  29.7604267,  -95.3698028],\n",
       "       [  27.950575 ,  -82.4571776],\n",
       "       [  40.7127753,  -74.0059728],\n",
       "       [  39.9525839,  -75.1652215],\n",
       "       [  42.3600825,  -71.0588801],\n",
       "       [  34.0522342, -118.2436849],\n",
       "       [  37.7749295, -122.4194155],\n",
       "       [  32.715738 , -117.1610838],\n",
       "       [  47.6062095, -122.3320708],\n",
       "       [  33.4483771, -112.0740373],\n",
       "       [  39.7392358, -104.990251 ],\n",
       "       [  21.3069444, -157.8583333],\n",
       "       [  61.2180556, -149.9002778]])"
      ]
     },
     "execution_count": 14,
     "metadata": {},
     "output_type": "execute_result"
    }
   ],
   "source": [
    "np.vstack(calculator.data.ce_geocodes)"
   ]
  },
  {
   "cell_type": "code",
   "execution_count": 34,
   "metadata": {},
   "outputs": [],
   "source": [
    "df_ce = calculator.data.df_ce"
   ]
  },
  {
   "cell_type": "code",
   "execution_count": 35,
   "metadata": {},
   "outputs": [],
   "source": [
    "df = df_ce.iloc[:,1].dropna(axis=0)"
   ]
  },
  {
   "cell_type": "code",
   "execution_count": 36,
   "metadata": {},
   "outputs": [
    {
     "data": {
      "text/plain": [
       "80928.0"
      ]
     },
     "execution_count": 36,
     "metadata": {},
     "output_type": "execute_result"
    }
   ],
   "source": [
    "df.loc['Income before taxes']"
   ]
  },
  {
   "cell_type": "code",
   "execution_count": 42,
   "metadata": {},
   "outputs": [],
   "source": [
    "ratios = df / df['Income before taxes']"
   ]
  },
  {
   "cell_type": "code",
   "execution_count": 43,
   "metadata": {},
   "outputs": [
    {
     "data": {
      "text/plain": [
       "Adults 65 and older                        0.000005\n",
       "Age of reference person                    0.000654\n",
       "Alcoholic beverages                        0.008131\n",
       "Apparel and services                       0.025974\n",
       "Average annual expenditures                0.743661\n",
       "Cash contributions                         0.018856\n",
       "Cereals and bakery products                0.006957\n",
       "Children under 18                          0.000006\n",
       "Dairy products                             0.004844\n",
       "Earners                                    0.000016\n",
       "Education                                  0.018918\n",
       "Entertainment                              0.037095\n",
       "Food                                       0.091402\n",
       "Food at home                               0.050823\n",
       "Food away from home                        0.040579\n",
       "Fruits and vegetables                      0.009997\n",
       "Gasoline, other fuels, and motor oil       0.024009\n",
       "Healthcare                                 0.062759\n",
       "Household furnishings and equipment        0.024787\n",
       "Household operations                       0.018720\n",
       "Housekeeping supplies                      0.008810\n",
       "Housing                                    0.232231\n",
       "Income before taxes                        1.000000\n",
       "Life and other personal insurance          0.006747\n",
       "Meats, poultry, fish, and eggs             0.010960\n",
       "Miscellaneous                              0.012072\n",
       "Number of consumer units (in thousands)    0.024182\n",
       "Other food at home                         0.018078\n",
       "Other lodging                              0.010454\n",
       "Other vehicle expenses                     0.053220\n",
       "Owned dwellings                            0.076896\n",
       "Pensions and Social Security               0.082209\n",
       "People                                     0.000030\n",
       "Percent homeowner                          0.000816\n",
       "Personal care products and services        0.010478\n",
       "Personal insurance and pensions            0.088956\n",
       "Public and other transportation            0.009490\n",
       "Reading                                    0.001162\n",
       "Rented dwellings                           0.041531\n",
       "Shelter                                    0.128868\n",
       "Tobacco products and smoking supplies      0.006809\n",
       "Transportation                             0.128831\n",
       "Utilities, fuels, and public services      0.051045\n",
       "Vehicle purchases (net outlay)             0.042124\n",
       "Vehicles                                   0.000023\n",
       "Name:  Detroit, MI, dtype: float64"
      ]
     },
     "execution_count": 43,
     "metadata": {},
     "output_type": "execute_result"
    }
   ],
   "source": [
    "ratios"
   ]
  },
  {
   "cell_type": "code",
   "execution_count": 39,
   "metadata": {},
   "outputs": [
    {
     "ename": "AttributeError",
     "evalue": "'Series' object has no attribute 'info'",
     "output_type": "error",
     "traceback": [
      "\u001b[0;31m---------------------------------------------------------------------------\u001b[0m",
      "\u001b[0;31mAttributeError\u001b[0m                            Traceback (most recent call last)",
      "\u001b[0;32m<ipython-input-39-a74c58233b9e>\u001b[0m in \u001b[0;36m<module>\u001b[0;34m\u001b[0m\n\u001b[0;32m----> 1\u001b[0;31m \u001b[0mdf\u001b[0m\u001b[0;34m.\u001b[0m\u001b[0minfo\u001b[0m\u001b[0;34m(\u001b[0m\u001b[0;34m)\u001b[0m\u001b[0;34m\u001b[0m\u001b[0m\n\u001b[0m",
      "\u001b[0;32m/anaconda2/envs/py37/lib/python3.6/site-packages/pandas/core/generic.py\u001b[0m in \u001b[0;36m__getattr__\u001b[0;34m(self, name)\u001b[0m\n\u001b[1;32m   4374\u001b[0m             \u001b[0;32mif\u001b[0m \u001b[0mself\u001b[0m\u001b[0;34m.\u001b[0m\u001b[0m_info_axis\u001b[0m\u001b[0;34m.\u001b[0m\u001b[0m_can_hold_identifiers_and_holds_name\u001b[0m\u001b[0;34m(\u001b[0m\u001b[0mname\u001b[0m\u001b[0;34m)\u001b[0m\u001b[0;34m:\u001b[0m\u001b[0;34m\u001b[0m\u001b[0m\n\u001b[1;32m   4375\u001b[0m                 \u001b[0;32mreturn\u001b[0m \u001b[0mself\u001b[0m\u001b[0;34m[\u001b[0m\u001b[0mname\u001b[0m\u001b[0;34m]\u001b[0m\u001b[0;34m\u001b[0m\u001b[0m\n\u001b[0;32m-> 4376\u001b[0;31m             \u001b[0;32mreturn\u001b[0m \u001b[0mobject\u001b[0m\u001b[0;34m.\u001b[0m\u001b[0m__getattribute__\u001b[0m\u001b[0;34m(\u001b[0m\u001b[0mself\u001b[0m\u001b[0;34m,\u001b[0m \u001b[0mname\u001b[0m\u001b[0;34m)\u001b[0m\u001b[0;34m\u001b[0m\u001b[0m\n\u001b[0m\u001b[1;32m   4377\u001b[0m \u001b[0;34m\u001b[0m\u001b[0m\n\u001b[1;32m   4378\u001b[0m     \u001b[0;32mdef\u001b[0m \u001b[0m__setattr__\u001b[0m\u001b[0;34m(\u001b[0m\u001b[0mself\u001b[0m\u001b[0;34m,\u001b[0m \u001b[0mname\u001b[0m\u001b[0;34m,\u001b[0m \u001b[0mvalue\u001b[0m\u001b[0;34m)\u001b[0m\u001b[0;34m:\u001b[0m\u001b[0;34m\u001b[0m\u001b[0m\n",
      "\u001b[0;31mAttributeError\u001b[0m: 'Series' object has no attribute 'info'"
     ]
    }
   ],
   "source": []
  },
  {
   "cell_type": "code",
   "execution_count": null,
   "metadata": {},
   "outputs": [],
   "source": []
  }
 ],
 "metadata": {
  "kernelspec": {
   "display_name": "Python 3",
   "language": "python",
   "name": "python3"
  },
  "language_info": {
   "codemirror_mode": {
    "name": "ipython",
    "version": 3
   },
   "file_extension": ".py",
   "mimetype": "text/x-python",
   "name": "python",
   "nbconvert_exporter": "python",
   "pygments_lexer": "ipython3",
   "version": "3.6.6"
  }
 },
 "nbformat": 4,
 "nbformat_minor": 2
}
