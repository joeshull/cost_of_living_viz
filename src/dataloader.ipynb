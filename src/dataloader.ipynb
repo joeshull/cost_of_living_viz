{
 "cells": [
  {
   "cell_type": "code",
   "execution_count": 3,
   "metadata": {},
   "outputs": [],
   "source": [
    "import numpy as np\n",
    "import pandas as pd\n",
    "import matplotlib.pyplot as plt\n",
    "import os\n",
    "\n",
    "import pdb"
   ]
  },
  {
   "cell_type": "code",
   "execution_count": 4,
   "metadata": {},
   "outputs": [],
   "source": [
    "#import zillow_median$/ft\n",
    "\n",
    "df_rent = pd.read_csv('../data/zillow/city/City_MedianRentalPricePerSqft_AllHomes.csv')\n",
    "\n"
   ]
  },
  {
   "cell_type": "code",
   "execution_count": 5,
   "metadata": {},
   "outputs": [
    {
     "name": "stdout",
     "output_type": "stream",
     "text": [
      "<class 'pandas.core.frame.DataFrame'>\n",
      "RangeIndex: 1606 entries, 0 to 1605\n",
      "Columns: 111 entries, RegionName to 2018-10\n",
      "dtypes: float64(106), int64(1), object(4)\n",
      "memory usage: 1.4+ MB\n"
     ]
    }
   ],
   "source": [
    "df_rent.info()"
   ]
  },
  {
   "cell_type": "code",
   "execution_count": 6,
   "metadata": {},
   "outputs": [],
   "source": [
    "df_own = pd.read_csv('../data/zillow/city/City_MedianValuePerSqft_AllHomes.csv', header=0)"
   ]
  },
  {
   "cell_type": "code",
   "execution_count": 7,
   "metadata": {},
   "outputs": [
    {
     "data": {
      "text/plain": [
       "array(['RegionName', 'State', 'Metro', 'CountyName', 'SizeRank',\n",
       "       '2010-01', '2010-02', '2010-03', '2010-04', '2010-05', '2010-06',\n",
       "       '2010-07', '2010-08', '2010-09', '2010-10', '2010-11', '2010-12',\n",
       "       '2011-01', '2011-02', '2011-03', '2011-04', '2011-05', '2011-06',\n",
       "       '2011-07', '2011-08', '2011-09', '2011-10', '2011-11', '2011-12',\n",
       "       '2012-01', '2012-02', '2012-03', '2012-04', '2012-05', '2012-06',\n",
       "       '2012-07', '2012-08', '2012-09', '2012-10', '2012-11', '2012-12',\n",
       "       '2013-01', '2013-02', '2013-03', '2013-04', '2013-05', '2013-06',\n",
       "       '2013-07', '2013-08', '2013-09', '2013-10', '2013-11', '2013-12',\n",
       "       '2014-01', '2014-02', '2014-03', '2014-04', '2014-05', '2014-06',\n",
       "       '2014-07', '2014-08', '2014-09', '2014-10', '2014-11', '2014-12',\n",
       "       '2015-01', '2015-02', '2015-03', '2015-04', '2015-05', '2015-06',\n",
       "       '2015-07', '2015-08', '2015-09', '2015-10', '2015-11', '2015-12',\n",
       "       '2016-01', '2016-02', '2016-03', '2016-04', '2016-05', '2016-06',\n",
       "       '2016-07', '2016-08', '2016-09', '2016-10', '2016-11', '2016-12',\n",
       "       '2017-01', '2017-02', '2017-03', '2017-04', '2017-05', '2017-06',\n",
       "       '2017-07', '2017-08', '2017-09', '2017-10', '2017-11', '2017-12',\n",
       "       '2018-01', '2018-02', '2018-03', '2018-04', '2018-05', '2018-06',\n",
       "       '2018-07', '2018-08', '2018-09', '2018-10'], dtype=object)"
      ]
     },
     "execution_count": 7,
     "metadata": {},
     "output_type": "execute_result"
    }
   ],
   "source": [
    "df_rent.columns.values"
   ]
  },
  {
   "cell_type": "code",
   "execution_count": 8,
   "metadata": {},
   "outputs": [],
   "source": [
    "#Load Consumer Expenditure\n",
    "\n",
    "base_ce_path = '../data/bls_ce/msa/'\n",
    "\n",
    "df_west = pd.read_excel('../data/bls_ce/msa/west.xlsx', header=2)"
   ]
  },
  {
   "cell_type": "code",
   "execution_count": 9,
   "metadata": {},
   "outputs": [],
   "source": [
    "\n",
    "\n",
    "class COLDataLoader():\n",
    "    #A Class for loading data for the Cost of living calculator.\n",
    "    #Instantiate with the path to the Zillow city csvs and Consumer Expenditure xlsx\n",
    "    \n",
    "    def __init__(self, zillow_path, ce_path, state_tax_path):\n",
    "        self.zillow_path = zillow_path\n",
    "        self.ce_path = ce_path\n",
    "        self.state_tax_path = state_tax_path\n",
    "        self.df_zil_own = None\n",
    "        self.df_zil_rent = None\n",
    "        self.df_ce = None\n",
    "        self.df_state_tax = None\n",
    "        \n",
    "    def load(self):\n",
    "        #Load Zillow\n",
    "        self.df_zil_own = pd.read_csv(os.path.join(self.zillow_path, 'City_MedianValuePerSqft_AllHomes.csv'), header=0)\n",
    "        self.df_zil_rent = pd.read_csv(os.path.join(self.zillow_path,'City_MedianRentalPricePerSqft_AllHomes.csv'))\n",
    "        \n",
    "        #Load CE\n",
    "        file_list = self.get_file_list(self.ce_path)\n",
    "        list_df = self.get_dataframes(file_list)\n",
    "        self.df_ce = self.merge_dataframes(list_df)\n",
    "        \n",
    "        #Load State Tax\n",
    "        self.get_state_tax()\n",
    "        \n",
    "    def remove_non_numeric(self,x):\n",
    "        try:\n",
    "            return float(x)\n",
    "        except:\n",
    "            return float(''.join([d for d in str(x) if d.isnumeric()]))\n",
    "        \n",
    "    def get_state_tax(self):\n",
    "        path = os.path.join(self.state_tax_path, os.listdir(self.state_tax_path)[0])\n",
    "        self.df_state_tax = pd.read_csv(path, na_values='None')\n",
    "        #Make infinite range\n",
    "        self.df_state_tax.loc[self.df_state_tax.incomeNotGreaterThan.isna(),'incomeNotGreaterThan'] = np.inf\n",
    "        #Fill other rates with 0\n",
    "        self.df_state_tax.iloc[:,-3:-1]= self.df_state_tax.iloc[:,-3:-1].fillna(0)\n",
    "        #Remove Non-numeric characters from numeric columns\n",
    "        self.df_state_tax.iloc[:,-3:] = self.df_state_tax.iloc[:,-3:].applymap(self.remove_non_numeric)\n",
    "        \n",
    "    \n",
    "    def get_file_list(self, base_path):\n",
    "        #Input: String - folder path to xlsx files\n",
    "        #Output: List of Strings - paths to the files\n",
    "        files = os.listdir(base_path)\n",
    "        file_list = []\n",
    "        for file in files:\n",
    "            if not file.startswith('~'):\n",
    "                file_path = os.path.join(base_path, file)\n",
    "                file_list.append(file_path)\n",
    "        return file_list\n",
    "\n",
    "    def get_dataframes(self, file_list):\n",
    "        #Input: List of Strings - paths to xlsx files\n",
    "        #Output: List of pd dataframes\n",
    "        list_df = []\n",
    "        for file in file_list:\n",
    "            df = pd.read_excel(file, header=2)\n",
    "            df = df.loc[~df.iloc[\n",
    "                \n",
    "                \n",
    "                :,0].isna(),:]\n",
    "            df.set_index('Item', inplace=True)\n",
    "            list_df.append(df)\n",
    "        return list_df\n",
    "\n",
    "    def merge_dataframes(self, list_df):\n",
    "        #Input: list of pd dataframes:\n",
    "        \n",
    "        #Output: dataframe joined columnwise by index.\n",
    "        return pd.concat(list_df, axis=1, ignore_index=False)"
   ]
  },
  {
   "cell_type": "code",
   "execution_count": 10,
   "metadata": {},
   "outputs": [
    {
     "name": "stderr",
     "output_type": "stream",
     "text": [
      "/anaconda2/envs/py37/lib/python3.6/site-packages/ipykernel_launcher.py:76: FutureWarning: Sorting because non-concatenation axis is not aligned. A future version\n",
      "of pandas will change to not sort by default.\n",
      "\n",
      "To accept the future behavior, pass 'sort=False'.\n",
      "\n",
      "To retain the current behavior and silence the warning, pass 'sort=True'.\n",
      "\n"
     ]
    }
   ],
   "source": [
    "base_ce_path = '../data/bls_ce/msa/'\n",
    "base_zil_path = '../data/zillow/city/'\n",
    "base_tax_path = '../data/state_tax/'\n",
    "data = COLDataLoader(base_zil_path, base_ce_path, base_tax_path)\n",
    "data.load()"
   ]
  },
  {
   "cell_type": "code",
   "execution_count": 16,
   "metadata": {},
   "outputs": [
    {
     "data": {
      "text/plain": [
       "'../data/bls_ce/msa/../'"
      ]
     },
     "execution_count": 16,
     "metadata": {},
     "output_type": "execute_result"
    }
   ],
   "source": [
    "os.path.join(base_ce_path, '../')"
   ]
  },
  {
   "cell_type": "code",
   "execution_count": 11,
   "metadata": {},
   "outputs": [],
   "source": [
    "class COLCalculator():\n",
    "    #Cost of Living Calculator\n",
    "    #Instantiate with the path to the Zillow city csvs and Consumer Expenditure xlsxs\n",
    "    def __init__(self, zillow_path, ce_path, state_tax_path):\n",
    "        self.data = COLDataLoader(zillow_path, ce_path, state_tax_path)\n",
    "        self.data.load()\n",
    "        \n",
    "    def calculate(self, gross_income, city, state, married=False):\n",
    "        #Calculation function: returns a dict (or json) with the following values\n",
    "        #income_taxes (Tuple): (Float: Approx amount of taxes paid, Float: Approx. Effective Tax Rate)\n",
    "        #housing_rent (Tuple): (Int: sqft affordable at the housing % ratio, Float: Ratio of housing/income)\n",
    "        #housing_own (Tuple): (Int: sqft affordable at the housing % ratio, Float: Ratio of housing/income)\n",
    "        tax_amount, tax_rate, net_income = self._get_taxes(gross_income, city, state, married)\n",
    "#         housing_rent, housing_own = self._get_housing(gross_income, city, state)\n",
    "        return {'taxes': tuple((tax_amount, tax_rate, net_income))}\n",
    "    \n",
    "    # Tax Calculation  - Federal and State\n",
    "    def _get_taxes(self, gross_income, city, state, married):\n",
    "        #returns tax amount, tax %, and net income\n",
    "        fed_tax, fed_rate = self._calc_fed_tax(gross_income, married)\n",
    "        state_tax, state_rate = self._calc_state_tax(gross_income, state, married)\n",
    "        pdb.set_trace()\n",
    "        total_tax = fed_tax + state_tax\n",
    "        net_income = gross_income - total_tax\n",
    "        effective_tax = total_tax/gross_income\n",
    "\n",
    "        return total_tax, effective_tax, net_income\n",
    "\n",
    "\n",
    "    \n",
    "    def _calc_fed_tax(self, gross_income, married):\n",
    "        #tax withholding from https://www.irs.gov/pub/irs-pdf/n1036.pdf\n",
    "        #Returns Tax Amount and rate used to calculate withholding\n",
    "        single_rate = np.array([[3800, 0, .1],\n",
    "                                [13500, 970,  .12],\n",
    "                                [43275, 4543,  .22],\n",
    "                                [88000, 14382, .24],\n",
    "                                [164525, 32748,  .32],\n",
    "                                [207900, 46628, .35],\n",
    "                                [514100, 153799, .37]]\n",
    "                                )\n",
    "\n",
    "        single_rate = np.hstack((single_rate, \n",
    "                                np.append(single_rate[1:,0],np.inf).reshape(-1,1)\n",
    "                                ))\n",
    "\n",
    "        married_rate = np.array([[11800, 0, .1],\n",
    "                                 [31200, 1940, .12],\n",
    "                                 [90750, 9086, .22],\n",
    "                                 [180200, 28765, .24],\n",
    "                                 [333250, 65497, .32],\n",
    "                                 [420000, 93257, .35],\n",
    "                                 [624150, 164710, .37]\n",
    "                                ])\n",
    "\n",
    "        married_rate = np.hstack((married_rate, \n",
    "                                np.append(married_rate[1:,0],np.inf).reshape(-1,1)\n",
    "                                ))\n",
    "        rate = single_rate\n",
    "        if married:\n",
    "            rate = married_rate\n",
    "\n",
    "        mask = np.logical_and(rate[:,0]<=gross_income, rate[:,-1]>gross_income)\n",
    "\n",
    "        mask = np.logical_and(rate[:,0]<=gross_income, rate[:,-1]>gross_income)\n",
    "        if mask.any():\n",
    "            threshold, base_tax, rate = rate[mask][0][0], rate[mask][0][1], rate[mask][0][2]\n",
    "            pdb.set_trace()\n",
    "            return ((base_tax + (gross_income-threshold)*rate), rate)\n",
    "        else:\n",
    "            return (0, 0)\n",
    "\n",
    "        \n",
    "    def _calc_state_tax(self,gross_income, state, married):\n",
    "        #Returns State Tax Amount and Rate used to calculate the amount\n",
    "        income = gross_income - 12000\n",
    "        if married:\n",
    "            income = gross_income - 24000\n",
    "        tax_rates = self.data.df_state_tax.loc[self.data.df_state_tax.stateAbbr == state]\n",
    "        mask = np.logical_and(tax_rates.iloc[:,-2].values<gross_income, tax_rates.iloc[:,-1].values>=gross_income)\n",
    "        rate = tax_rates.loc[mask,'incomeTaxRate'].values[0]\n",
    "        return (income*rate, rate)\n",
    "    \n",
    "    def _get_housing(self, gross_income, city, state):\n",
    "        #Returns two tuples\n",
    "        #housing_rent (Tuple): (Int: sqft affordable at the housing % ratio, Float: Ratio of housing/income)\n",
    "        #housing_own (Tuple): (Int: sqft affordable at the housing % ratio, Float: Ratio of housing/income)\n",
    "        pass\n",
    "    \n",
    "    def _get_transporation(self, gross_income, city):\n",
    "        #Returns amount of transportation ?\n",
    "        pass\n",
    "    \n",
    "    def _get_lifestyle(self, gross_income, city):\n",
    "        pass\n",
    "    \n",
    "    def _get_savings(self, gross_income, city):\n",
    "        pass"
   ]
  },
  {
   "cell_type": "code",
   "execution_count": 12,
   "metadata": {},
   "outputs": [
    {
     "name": "stderr",
     "output_type": "stream",
     "text": [
      "/anaconda2/envs/py37/lib/python3.6/site-packages/ipykernel_launcher.py:76: FutureWarning: Sorting because non-concatenation axis is not aligned. A future version\n",
      "of pandas will change to not sort by default.\n",
      "\n",
      "To accept the future behavior, pass 'sort=False'.\n",
      "\n",
      "To retain the current behavior and silence the warning, pass 'sort=True'.\n",
      "\n"
     ]
    }
   ],
   "source": [
    "calculator = COLCalculator(base_zil_path, base_ce_path, base_tax_path)\n"
   ]
  },
  {
   "cell_type": "code",
   "execution_count": 13,
   "metadata": {},
   "outputs": [
    {
     "name": "stdout",
     "output_type": "stream",
     "text": [
      "> <ipython-input-11-8561a6486968>(69)_calc_fed_tax()\n",
      "-> return ((base_tax + (gross_income-threshold)*rate), rate)\n",
      "(Pdb) continue\n",
      "> <ipython-input-11-8561a6486968>(23)_get_taxes()\n",
      "-> total_tax = fed_tax + state_tax\n",
      "(Pdb) continue\n",
      "{'taxes': (42096.0, 0.28064, 107904.0)}\n"
     ]
    }
   ],
   "source": [
    "print(calculator.calculate(150000, 'San Francisco', 'CA'))"
   ]
  },
  {
   "cell_type": "code",
   "execution_count": 74,
   "metadata": {},
   "outputs": [],
   "source": [
    "def calc_state_tax(gross_income, state):\n",
    "    tax_rates = data.df_state_tax.loc[data.df_state_tax.stateAbbr == state]\n",
    "    mask = np.logical_and(tax_rates.iloc[:,-2].values<gross_income, tax_rates.iloc[:,-1].values>=gross_income)\n",
    "    \n",
    "    return tax_rates.loc[mask,'incomeTaxRate'].values"
   ]
  },
  {
   "cell_type": "code",
   "execution_count": 101,
   "metadata": {},
   "outputs": [
    {
     "data": {
      "text/plain": [
       "array([0.093])"
      ]
     },
     "execution_count": 101,
     "metadata": {},
     "output_type": "execute_result"
    }
   ],
   "source": [
    "calc_state_tax(100000, 'CA')"
   ]
  },
  {
   "cell_type": "code",
   "execution_count": 73,
   "metadata": {},
   "outputs": [
    {
     "name": "stdout",
     "output_type": "stream",
     "text": [
      "<class 'pandas.core.frame.DataFrame'>\n",
      "RangeIndex: 211 entries, 0 to 210\n",
      "Data columns (total 6 columns):\n",
      "id                      211 non-null int64\n",
      "stateAbbr               211 non-null object\n",
      "stateName               211 non-null object\n",
      "incomeTaxRate           211 non-null float64\n",
      "incomeGreaterThan       211 non-null float64\n",
      "incomeNotGreaterThan    211 non-null float64\n",
      "dtypes: float64(3), int64(1), object(2)\n",
      "memory usage: 10.0+ KB\n"
     ]
    }
   ],
   "source": [
    "data.df_state_tax.info()\n"
   ]
  },
  {
   "cell_type": "code",
   "execution_count": null,
   "metadata": {},
   "outputs": [],
   "source": []
  }
 ],
 "metadata": {
  "kernelspec": {
   "display_name": "Python 3",
   "language": "python",
   "name": "python3"
  },
  "language_info": {
   "codemirror_mode": {
    "name": "ipython",
    "version": 3
   },
   "file_extension": ".py",
   "mimetype": "text/x-python",
   "name": "python",
   "nbconvert_exporter": "python",
   "pygments_lexer": "ipython3",
   "version": "3.6.6"
  }
 },
 "nbformat": 4,
 "nbformat_minor": 2
}
