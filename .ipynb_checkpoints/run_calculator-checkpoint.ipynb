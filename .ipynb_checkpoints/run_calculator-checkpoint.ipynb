{
 "cells": [
  {
   "cell_type": "code",
   "execution_count": 1,
   "metadata": {},
   "outputs": [],
   "source": [
    "import json\n",
    "import requests"
   ]
  },
  {
   "cell_type": "code",
   "execution_count": 2,
   "metadata": {},
   "outputs": [],
   "source": [
    "addr= 'http://3.16.15.213:80/'\n",
    "data = {\"gross_income\":100000, \"city\":\"Denver\", \"state\":\"CO\"}\n",
    "out = json.dumps(data)"
   ]
  },
  {
   "cell_type": "code",
   "execution_count": 3,
   "metadata": {},
   "outputs": [
    {
     "data": {
      "text/plain": [
       "'{\"gross_income\": 100000, \"city\": \"Denver\", \"state\": \"CO\"}'"
      ]
     },
     "execution_count": 3,
     "metadata": {},
     "output_type": "execute_result"
    }
   ],
   "source": [
    "out"
   ]
  },
  {
   "cell_type": "code",
   "execution_count": 4,
   "metadata": {},
   "outputs": [],
   "source": [
    "res = requests.post(addr,data=out)"
   ]
  },
  {
   "cell_type": "code",
   "execution_count": 5,
   "metadata": {},
   "outputs": [
    {
     "data": {
      "text/plain": [
       "{'input': {'gross_income': 100000,\n",
       "  'city': 'Denver',\n",
       "  'state': 'CO',\n",
       "  'married': False,\n",
       "  'mortgage_rate': 0.0459},\n",
       " 'result': {'taxes': {'tax_amount': 21336.4,\n",
       "   'tax_rate': 0.21336,\n",
       "   'net_income': 78663.6},\n",
       "  'geocode': [39.739234924316406, -104.99024963378906],\n",
       "  'ratios': {'Housing': {'dollar_budget': 29568.69, 'ratio_of_income': 0.296},\n",
       "   'Food': {'dollar_budget': 8706.53, 'ratio_of_income': 0.087},\n",
       "   'Transportation': {'dollar_budget': 8953.38, 'ratio_of_income': 0.09},\n",
       "   'Healthcare': {'dollar_budget': 5300.47, 'ratio_of_income': 0.053},\n",
       "   'Apparel and services': {'dollar_budget': 2594.18,\n",
       "    'ratio_of_income': 0.026},\n",
       "   'Entertainment': {'dollar_budget': 3025.6, 'ratio_of_income': 0.03},\n",
       "   'Personal care products and services': {'dollar_budget': 895.68,\n",
       "    'ratio_of_income': 0.009},\n",
       "   'Reading': {'dollar_budget': 118.9, 'ratio_of_income': 0.001},\n",
       "   'Education': {'dollar_budget': 3094.67, 'ratio_of_income': 0.031},\n",
       "   'Tobacco products and smoking supplies': {'dollar_budget': 277.42,\n",
       "    'ratio_of_income': 0.003},\n",
       "   'Miscellaneous': {'dollar_budget': 1131.2, 'ratio_of_income': 0.011},\n",
       "   'Cash contributions': {'dollar_budget': 3769.55, 'ratio_of_income': 0.038},\n",
       "   'Personal insurance and pensions': {'dollar_budget': 8749.56,\n",
       "    'ratio_of_income': 0.087}},\n",
       "  'housing_own': {'own_sqft': 1340, 'own_person_capacity': 4.0},\n",
       "  'housing_rent': {'rent_sqft': 1136, 'rent_person_capacity': 3.0}}}"
      ]
     },
     "execution_count": 5,
     "metadata": {},
     "output_type": "execute_result"
    }
   ],
   "source": [
    "json.loads(res.json())"
   ]
  },
  {
   "cell_type": "code",
   "execution_count": null,
   "metadata": {},
   "outputs": [],
   "source": []
  }
 ],
 "metadata": {
  "kernelspec": {
   "display_name": "Python 3",
   "language": "python",
   "name": "python3"
  },
  "language_info": {
   "codemirror_mode": {
    "name": "ipython",
    "version": 3
   },
   "file_extension": ".py",
   "mimetype": "text/x-python",
   "name": "python",
   "nbconvert_exporter": "python",
   "pygments_lexer": "ipython3",
   "version": "3.6.6"
  }
 },
 "nbformat": 4,
 "nbformat_minor": 2
}
